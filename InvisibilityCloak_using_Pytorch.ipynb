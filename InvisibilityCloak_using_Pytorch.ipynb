{
  "cells": [
    {
      "cell_type": "code",
      "execution_count": null,
      "id": "cc273758",
      "metadata": {
        "id": "cc273758"
      },
      "outputs": [],
      "source": [
        "import cv2\n",
        "import torch\n",
        "import numpy as np\n",
        "import time"
      ]
    },
    {
      "cell_type": "code",
      "execution_count": null,
      "id": "ed547681",
      "metadata": {
        "id": "ed547681"
      },
      "outputs": [],
      "source": [
        "cap=cv2.VideoCapture(0)\n",
        "time.sleep(2)"
      ]
    },
    {
      "cell_type": "code",
      "execution_count": null,
      "id": "d2a84573",
      "metadata": {
        "id": "d2a84573",
        "outputId": "cd9805d0-ae24-42b5-b1f4-c2f5e821441d"
      },
      "outputs": [
        {
          "name": "stdout",
          "output_type": "stream",
          "text": [
            "initial bg done\n"
          ]
        }
      ],
      "source": [
        "for i in range(30):\n",
        "    ret,bg=cap.read()\n",
        "print('initial bg done')"
      ]
    },
    {
      "cell_type": "code",
      "execution_count": null,
      "id": "d6c94fbb",
      "metadata": {
        "id": "d6c94fbb"
      },
      "outputs": [],
      "source": [
        "bg_tensor = torch.from_numpy(bg).float() / 255.0"
      ]
    },
    {
      "cell_type": "code",
      "execution_count": null,
      "id": "5537a677",
      "metadata": {
        "id": "5537a677"
      },
      "outputs": [],
      "source": [
        "lower_red1=torch.tensor([0,120,70],dtype=torch.float32)/255.0\n",
        "upper_red1=torch.tensor([10,255,255],dtype=torch.float32)/255.0\n",
        "\n",
        "lower_red2=torch.tensor([170,120,70],dtype=torch.float32)/255.0\n",
        "upper_red2=torch.tensor([180,255,255],dtype=torch.float32)/255.0\n",
        "'''lower_pink=torch.tensor([140,50,150],dtype=torch.float32)/255.0\n",
        "upper_pink=torch.tensor([170,255,255],dtype=torch.float32)/255.0'''"
      ]
    },
    {
      "cell_type": "code",
      "execution_count": null,
      "id": "57e0b8e1",
      "metadata": {
        "id": "57e0b8e1"
      },
      "outputs": [],
      "source": [
        "while cap.isOpened():\n",
        "    ret,frame=cap.read()\n",
        "    if not ret:\n",
        "        print(\"error\")\n",
        "        break\n",
        "    frame=cv2.flip(frame,1)\n",
        "    frame_tensor=torch.from_numpy(frame).float()/255.0\n",
        "\n",
        "    hsv=cv2.cvtColor(frame,cv2.COLOR_BGR2HSV)\n",
        "    hsv_tensor=torch.from_numpy(hsv).float()/255.0\n",
        "\n",
        "    mask1=(hsv_tensor>=lower_red1)&(hsv_tensor<=upper_red1)\n",
        "    mask2=(hsv_tensor>=lower_red2)&(hsv_tensor<=upper_red2)\n",
        "    mask=mask1|mask2\n",
        "\n",
        "    #ask=(hsv_tensor>=lower_pink)&(hsv_tensor<=upper_pink)\n",
        "\n",
        "    cloak=bg_tensor*mask\n",
        "\n",
        "    remaining_area=frame_tensor*(~mask)\n",
        "\n",
        "    final=remaining_area+cloak\n",
        "\n",
        "    output=(final.numpy()*255).astype(np.uint8)\n",
        "\n",
        "    cv2.imshow('invisibility cloak',output)\n",
        "    if cv2.waitKey(1)==27:\n",
        "        break\n",
        "\n",
        "cap.release()\n",
        "cv2.destroyAllWindows()"
      ]
    },
    {
      "cell_type": "code",
      "execution_count": null,
      "id": "7b94c375",
      "metadata": {
        "id": "7b94c375"
      },
      "outputs": [],
      "source": [
        "import cv2\n",
        "import numpy as np\n",
        "import time\n",
        "\n",
        "# Initialize the camera\n",
        "cap = cv2.VideoCapture(0)\n",
        "time.sleep(2)  # Let the camera warm up\n",
        "\n",
        "# Capture the background frame for 2 seconds\n",
        "for i in range(30):\n",
        "    ret, background = cap.read()\n",
        "\n",
        "# Define the color range for the cloak (for example: red cloak)\n",
        "lower_red = np.array([0, 120, 70])\n",
        "upper_red = np.array([10, 255, 255])\n",
        "lower_red2 = np.array([170, 120, 70])\n",
        "upper_red2 = np.array([180, 255, 255])\n",
        "\n",
        "while cap.isOpened():\n",
        "    ret, frame = cap.read()\n",
        "    if not ret:\n",
        "        break\n",
        "\n",
        "    # Flip the frame horizontally for consistency\n",
        "    frame = cv2.flip(frame, 1)\n",
        "\n",
        "    # Convert the frame from BGR to HSV color space\n",
        "    hsv = cv2.cvtColor(frame, cv2.COLOR_BGR2HSV)\n",
        "\n",
        "    # Create a mask for the cloak color\n",
        "    mask1 = cv2.inRange(hsv, lower_red, upper_red)\n",
        "    mask2 = cv2.inRange(hsv, lower_red2, upper_red2)\n",
        "    mask = mask1 + mask2\n",
        "\n",
        "    # Refine the mask using morphological operations\n",
        "    mask = cv2.morphologyEx(mask, cv2.MORPH_OPEN, np.ones((3, 3), np.uint8))\n",
        "    mask = cv2.morphologyEx(mask, cv2.MORPH_DILATE, np.ones((3, 3), np.uint8))\n",
        "\n",
        "    # Create an inverse mask to get the remaining part of the frame\n",
        "    mask_inv = cv2.bitwise_not(mask)\n",
        "\n",
        "    # Extract the background where the cloak is detected\n",
        "    cloak_area = cv2.bitwise_and(background, background, mask=mask)\n",
        "\n",
        "    # Extract the remaining part of the frame\n",
        "    remaining_area = cv2.bitwise_and(frame, frame, mask=mask_inv)\n",
        "\n",
        "    # Combine both areas\n",
        "    final_output = cv2.addWeighted(cloak_area, 1, remaining_area, 1, 0)\n",
        "\n",
        "    # Display the result\n",
        "    cv2.imshow('Invisibility Cloak', final_output)\n",
        "\n",
        "    if cv2.waitKey(1) == 27:  # Press ESC to exit\n",
        "        break\n",
        "\n",
        "cap.release()\n",
        "cv2.destroyAllWindows()\n"
      ]
    }
  ],
  "metadata": {
    "kernelspec": {
      "display_name": "Python 3 (ipykernel)",
      "language": "python",
      "name": "python3"
    },
    "language_info": {
      "codemirror_mode": {
        "name": "ipython",
        "version": 3
      },
      "file_extension": ".py",
      "mimetype": "text/x-python",
      "name": "python",
      "nbconvert_exporter": "python",
      "pygments_lexer": "ipython3",
      "version": "3.9.13"
    },
    "colab": {
      "provenance": []
    }
  },
  "nbformat": 4,
  "nbformat_minor": 5
}